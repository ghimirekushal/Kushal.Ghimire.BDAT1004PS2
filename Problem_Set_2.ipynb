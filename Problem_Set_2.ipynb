{
 "cells": [
  {
   "cell_type": "markdown",
   "id": "6441f75c",
   "metadata": {},
   "source": [
    "# Question 1"
   ]
  },
  {
   "cell_type": "markdown",
   "id": "0b021fed",
   "metadata": {},
   "source": [
    "Consider the following Python module:\n",
    "    \n",
    "a = 0\n",
    "def b():\n",
    "global a\n",
    "a = c(a)\n",
    "def c(a):\n",
    "return a + 2\n",
    "After importing the module into the interpreter, you execute:\n",
    ">>> b()\n",
    ">>> b()\n",
    ">>> b()\n",
    ">>> a\n",
    "?\n",
    "What value is displayed when the last expression (a) is evaluated? Explain your answer by indicating what happens in every executed statement."
   ]
  },
  {
   "cell_type": "code",
   "execution_count": 14,
   "id": "e5b43f55",
   "metadata": {},
   "outputs": [
    {
     "data": {
      "text/plain": [
       "6"
      ]
     },
     "execution_count": 14,
     "metadata": {},
     "output_type": "execute_result"
    }
   ],
   "source": [
    "a = 0\n",
    "def b():\n",
    " global a\n",
    " a = c(a)\n",
    "def c(a):\n",
    " return a + 2\n",
    "\n",
    "b()\n",
    "b()\n",
    "b()\n",
    "a"
   ]
  },
  {
   "cell_type": "markdown",
   "id": "f7abd033",
   "metadata": {},
   "source": [
    "1. We initialize the variable ‘a’ with a value of 0.\n",
    "2. We define a function called b() that utilizes the ‘global’ statement to access and modify the global variable ‘a’.\n",
    "3. Within the b() function, we invoke the function c(a) and assign the returned value back to ‘a’. The c() function takes the current value of ‘a’, adds 2 to it, and returns the updated value.\n",
    "4. Upon the initial execution of b() (i.e., calling b() for the first time), the result of c(a) is assigned to ‘a’, resulting in a value of 2 for ‘a’.\n",
    "5. Upon the second execution of b(), c(a) is once again called, utilizing the current value of ‘a’ (which is 2) and adding 2 to it. The returned value, 4, is then assigned back to ‘a’.\n",
    "6. Similarly, during the third execution of b(), c(a) returns 6, which becomes the new value of ‘a’ after assignment.\n",
    "7. Finally, evaluating the last expression ‘a’ results in returning the value of ‘a’, which is 6."
   ]
  },
  {
   "cell_type": "markdown",
   "id": "789e5102",
   "metadata": {},
   "source": [
    "# Question 2"
   ]
  },
  {
   "cell_type": "markdown",
   "id": "bbeb5e54",
   "metadata": {},
   "source": [
    "Function fileLength(), given to you, takes the name of a file as input and returns\n",
    "the length of the file:\n",
    "    \n",
    "    \n",
    ">>> fileLength('midterm.py')\n",
    "\n",
    "284\n",
    "\n",
    ">>> fileLength('idterm.py')\n",
    "\n",
    "Traceback (most recent call last):\n",
    "    \n",
    "File \"<pyshell#34>\", line 1, in <module>\n",
    "\n",
    "fileLength('idterm.py')\n",
    "\n",
    "File \"/Users/me/midterm.py\", line 3, in fileLength\n",
    "\n",
    "infile = open(filename)\n",
    "\n",
    "FileNotFoundError: [Errno 2] No such file or directory:\n",
    "        \n",
    "'idterm.py'\n",
    "\n",
    "\n",
    "As shown above, if the file cannot be found by the interpreter or if it cannot be read\n",
    "as a text file, an exception will be raised. Modify function fileLength() so that a\n",
    "friendly message is printed instead:\n",
    "    \n",
    "    \n",
    ">>> fileLength('midterm.py')\n",
    "\n",
    "358\n",
    "\n",
    ">>> fileLength('idterm.py')\n",
    "\n",
    "File idterm.py not found."
   ]
  },
  {
   "cell_type": "code",
   "execution_count": 2,
   "id": "86808dba",
   "metadata": {},
   "outputs": [
    {
     "name": "stdout",
     "output_type": "stream",
     "text": [
      "File idterm.py not found.\n"
     ]
    }
   ],
   "source": [
    "def fileLength(filename):\n",
    "    try:\n",
    "        infile = open(filename) #Access the file to read it\n",
    "        contents = infile.read() #View the files content\n",
    "        infile.close() #Close the file\n",
    "        print(len(contents))  #Print out the contents length\n",
    "    except FileNotFoundError:\n",
    "        print(f\"File {filename} not found.\") #Handle the case where the file is not found\n",
    "        \n",
    "fileLength(\"idterm.py\")"
   ]
  },
  {
   "cell_type": "markdown",
   "id": "85cf667f",
   "metadata": {},
   "source": [
    "# Question 3"
   ]
  },
  {
   "cell_type": "markdown",
   "id": "83dbaed0",
   "metadata": {},
   "source": [
    "Write a class named Marsupial that can be used as shown below:\n",
    "    \n",
    "    \n",
    ">>> m = Marsupial()\n",
    "\n",
    ">>> m.put_in_pouch('doll')\n",
    "\n",
    ">>> m.put_in_pouch('firetruck')\n",
    "\n",
    ">>> m.put_in_pouch('kitten')\n",
    "\n",
    ">>> m.pouch_contents()\n",
    "\n",
    "['doll', 'firetruck', 'kitten']\n",
    "\n",
    "Now write a class named Kangaroo as a subclass of Marsupial that inherits all the\n",
    "attributes of Marsupial and also:\n",
    "    \n",
    "a. extends the Marsupial __init__ constructor to take, as input, the\n",
    "coordinates x and y of the Kangaroo object,\n",
    "\n",
    "b. supports method jump that takes number values dx and dy as input and\n",
    "movesthe kangaroo by dx units along the x-axis and by dy units along the yaxis, and\n",
    "\n",
    "c. overloads the __str__ operator so it behaves as shown below.\n",
    "\n",
    "\n",
    ">>> k = Kangaroo(0,0)\n",
    "\n",
    ">>> print(k)\n",
    "\n",
    "I am a Kangaroo located at coordinates (0,0)\n",
    "\n",
    ">>> k.put_in_pouch('doll')\n",
    "\n",
    ">>> k.put_in_pouch('firetruck')\n",
    "\n",
    ">>> k.put_in_pouch('kitten')\n",
    "\n",
    ">>> k.pouch_contents()\n",
    "\n",
    "['doll', 'firetruck', 'kitten']\n",
    "\n",
    ">>> k.jump(1,0)\n",
    "\n",
    ">>> k.jump(1,0)\n",
    "\n",
    ">>> k.jump(1,0)\n",
    "\n",
    ">>> print(k)\n",
    "\n",
    "I am a Kangaroo located at coordinates (3,0)"
   ]
  },
  {
   "cell_type": "code",
   "execution_count": 3,
   "id": "ea123149",
   "metadata": {
    "scrolled": true
   },
   "outputs": [
    {
     "name": "stdout",
     "output_type": "stream",
     "text": [
      "['doll', 'firetruck', 'kitten']\n",
      "I am a Kangaroo located at coordinates (0,0)\n",
      "['doll', 'firetruck', 'kitten']\n",
      "I am a Kangaroo located at coordinates (3,0)\n"
     ]
    }
   ],
   "source": [
    "#Describe the marsupial class\n",
    "class Marsupial:\n",
    "    def __init__(self):\n",
    "        self.pouch = []\n",
    "    \n",
    "    def put_in_pouch(self, item):\n",
    "        self.pouch.append(item)\n",
    "    \n",
    "    def pouch_contents(self):\n",
    "        return self.pouch\n",
    "\n",
    "#Define Kangaroo class, inheriting from Marsupial\n",
    "class Kangaroo(Marsupial):\n",
    "\n",
    "    def __init__(self, x, y):\n",
    "        super().__init__()\n",
    "        self.x = x\n",
    "        self.y = y\n",
    "    \n",
    "    def jump(self, dx, dy):\n",
    "        self.x += dx\n",
    "        self.y += dy\n",
    "    \n",
    "    # overloads the __str__ operator so it behaves as shown below.\n",
    "    def __str__(self):\n",
    "        return f\"I am a Kangaroo located at coordinates ({self.x},{self.y})\"\n",
    "\n",
    "\n",
    "# Example usage\n",
    "m = Marsupial()\n",
    "m.put_in_pouch('doll')\n",
    "m.put_in_pouch('firetruck')\n",
    "m.put_in_pouch('kitten')\n",
    "print(m.pouch_contents())  # Output: ['doll', 'firetruck', 'kitten']\n",
    "\n",
    "k = Kangaroo(0, 0)\n",
    "print(k)  # Output: I am a Kangaroo located at coordinates (0,0)\n",
    "k.put_in_pouch('doll')\n",
    "k.put_in_pouch('firetruck')\n",
    "k.put_in_pouch('kitten')\n",
    "print(k.pouch_contents())  # Output: ['doll', 'firetruck', 'kitten']\n",
    "# jump method takes dx and dy values as input and updates the Kangaroo coordinates\n",
    "k.jump(1, 0)\n",
    "k.jump(1, 0)\n",
    "k.jump(1, 0)\n",
    "print(k)  # Output: I am a Kangaroo located at coordinates (3,0)"
   ]
  },
  {
   "cell_type": "markdown",
   "id": "2965fad9",
   "metadata": {},
   "source": [
    "# Question 4 "
   ]
  },
  {
   "cell_type": "markdown",
   "id": "f57a5e3c",
   "metadata": {},
   "source": [
    "Write function collatz() that takes a positive integer x as input and prints the\n",
    "Collatz sequence starting at x. A Collatz sequence is obtained by repeatedly applying\n",
    "this rule to the previous number x in the sequence:\n",
    "    \n",
    "x = {\n",
    "    \n",
    "𝑥/2 𝑖𝑓 𝑥 𝑖𝑠 𝑒𝑣𝑒𝑛3𝑥\n",
    "    \n",
    "+1 𝑖𝑓 𝑥 𝑖𝑠 𝑜𝑑𝑑\n",
    "    \n",
    "Your function should stop when the sequence gets to number 1. Your\n",
    "implementation must be recursive, without any loops.\n",
    "    \n",
    "    >>> collatz(1)\n",
    "    \n",
    "1\n",
    "    \n",
    ">>> collatz(10)\n",
    "    \n",
    "10\n",
    "    \n",
    "5\n",
    "    \n",
    "16\n",
    "    \n",
    "8\n",
    "    \n",
    "4\n",
    "    \n",
    "2\n",
    "    \n",
    "1\n"
   ]
  },
  {
   "cell_type": "code",
   "execution_count": 4,
   "id": "bfe1df0f",
   "metadata": {},
   "outputs": [
    {
     "name": "stdout",
     "output_type": "stream",
     "text": [
      "1\n",
      "10\n",
      "5\n",
      "16\n",
      "8\n",
      "4\n",
      "2\n",
      "1\n"
     ]
    }
   ],
   "source": [
    "def collatz(x):\n",
    "    print(x)\n",
    "    if x == 1:\n",
    "        return\n",
    "    elif x % 2 == 0:\n",
    "        collatz(x // 2)  #For even numbers, use the Collatz rule\n",
    "    else:\n",
    "        collatz(3 * x + 1) #For odd numbers, use the Collatz rule.\n",
    "\n",
    "collatz(1)\n",
    "collatz(10)"
   ]
  },
  {
   "cell_type": "markdown",
   "id": "a4c578be",
   "metadata": {},
   "source": [
    "# Question 5"
   ]
  },
  {
   "cell_type": "markdown",
   "id": "57e22e66",
   "metadata": {},
   "source": [
    "Write a recursive method binary() that takes a non-negative\n",
    "integer n and prints the binary representation of integer n.\n",
    "\n",
    ">>> binary(0)\n",
    "0\n",
    "\n",
    ">>> binary(1)\n",
    "1\n",
    "\n",
    ">>> binary(3)\n",
    "11\n",
    "\n",
    ">>> binary(9)\n",
    "1001\n"
   ]
  },
  {
   "cell_type": "code",
   "execution_count": 5,
   "id": "8816b81a",
   "metadata": {},
   "outputs": [
    {
     "name": "stdout",
     "output_type": "stream",
     "text": [
      "0\n",
      "\n",
      "1\n",
      "\n",
      "11\n",
      "\n",
      "1001"
     ]
    }
   ],
   "source": [
    "def binary(n):\n",
    "    if n < 2:\n",
    "        print(n, end='')  #Print the last binary digit\n",
    "    else:\n",
    "        binary(n // 2)  #Convert the remaining numerals repeatedly\n",
    "        print(n % 2, end='')  #Print the current binary digit\n",
    "\n",
    "binary(0)\n",
    "print(\"\\n\")\n",
    "binary(1)\n",
    "print(\"\\n\")\n",
    "binary(3)\n",
    "print(\"\\n\")\n",
    "binary(9)"
   ]
  },
  {
   "cell_type": "markdown",
   "id": "d65e3f06",
   "metadata": {},
   "source": [
    "# Question 6"
   ]
  },
  {
   "cell_type": "markdown",
   "id": "bf686472",
   "metadata": {},
   "source": [
    "Implement a class named HeadingParser that can be used to parse an HTML\n",
    "document, and retrieve and print all the headings in the document. You should\n",
    "implement your class as a subclass of HTMLParser, defined in Standard Library\n",
    "module html.parser. When fed a string containing HTML code, your class should\n",
    "print the headings, one per line and in the order in which they appear in the\n",
    "document.Each heading should be indented asfollows: an h1 heading should have \n",
    "indentation 0, and h2 heading should have indentation 1, etc. Test your\n",
    "implementation using w3c.html.\n",
    "\n",
    ">>> infile = open('w3c.html')\n",
    "\n",
    ">>> content = infile.read()\n",
    "\n",
    ">>> infile.close()\n",
    "\n",
    ">>> hp = HeadingParser()\n",
    "\n",
    ">>> hp.feed(content)\n",
    "\n",
    "W3C Mission\n",
    "\n",
    "Principles"
   ]
  },
  {
   "cell_type": "code",
   "execution_count": 10,
   "id": "7d82e6ec",
   "metadata": {},
   "outputs": [],
   "source": [
    "from html.parser import HTMLParser"
   ]
  },
  {
   "cell_type": "code",
   "execution_count": 9,
   "id": "35a034c4",
   "metadata": {
    "scrolled": true
   },
   "outputs": [
    {
     "name": "stdout",
     "output_type": "stream",
     "text": [
      "Error: Invalid indentation level 'tml' encountered.\n",
      "Error: Invalid indentation level 'ead' encountered.\n",
      "Change_me\n",
      "W3C Mission\n",
      " Principles\n",
      "\n"
     ]
    }
   ],
   "source": [
    "class HeadingParser(HTMLParser):\n",
    "    def __init__(self):\n",
    "        super().__init__()\n",
    "        self.headings = []\n",
    "        self.current_heading = ''\n",
    "        self.indentation = 0\n",
    "\n",
    "    def handle_starttag(self, tag, attrs):\n",
    "        if tag.startswith('h'):\n",
    "            try:\n",
    "                self.indentation = int(tag[1:]) - 1\n",
    "            except ValueError:\n",
    "                print(f\"Error: Invalid indentation level '{tag[1:]}' encountered.\")\n",
    "\n",
    "    def handle_data(self, data):\n",
    "        if data.strip() != '':\n",
    "            self.current_heading = ' ' * self.indentation + data\n",
    "\n",
    "    def handle_endtag(self, tag):\n",
    "        if tag.startswith('h'):\n",
    "            self.headings.append(self.current_heading)\n",
    "            self.current_heading = ''\n",
    "\n",
    "    def print_headings(self):\n",
    "        for heading in self.headings:\n",
    "            print(heading)\n",
    "\n",
    "    \n",
    "hp = HeadingParser() #Make an object called HeadingParser\n",
    "\n",
    "# Read the HTML code contained in the w3c.html file\n",
    "with open('w3c.html') as file:\n",
    "    content = file.read()\n",
    "\n",
    "\n",
    "try:\n",
    "    hp.feed(content) #Feed the HeadingParser the HTML content to be analysed\n",
    "except Exception as e:\n",
    "    print(\"Error occurred during HTML parsing:\", e)\n",
    "\n",
    "hp.print_headings() #Print the extracted headings\n"
   ]
  },
  {
   "cell_type": "markdown",
   "id": "c8239539",
   "metadata": {},
   "source": [
    "# Question 7"
   ]
  },
  {
   "cell_type": "markdown",
   "id": "c3976118",
   "metadata": {},
   "source": [
    "Implement recursive function webdir() that takes as input: a URL (as a string) and\n",
    "non-negative integers depth and indent. Your function should visit every web\n",
    "page reachable from the starting URL web page in depth clicks or less, and print\n",
    "each web page's URL. As shown below, indentation, specified by indent, should\n",
    "be used to indicate the depth of a URL.\n",
    "\n",
    "\n",
    ">>>\n",
    "webdir('http://reed.cs.depaul.edu/lperkovic/csc242/test1.html', 2, 0)\n",
    "\n",
    "http://reed.cs.depaul.edu/lperkovic/csc242/test1.html\n",
    "\n",
    "http://reed.cs.depaul.edu/lperkovic/csc242/test2.html\n",
    "\n",
    "http://reed.cs.depaul.edu/lperkovic/csc242/test4.html\n",
    "\n",
    "http://reed.cs.depaul.edu/lperkovic/csc242/test3.html\n",
    "\n",
    "http://reed.cs.depaul.edu/lperkovic/csc242/test4.html"
   ]
  },
  {
   "cell_type": "code",
   "execution_count": 11,
   "id": "b7acec2c",
   "metadata": {},
   "outputs": [
    {
     "name": "stdout",
     "output_type": "stream",
     "text": [
      "http://reed.cs.depaul.edu/lperkovic/csc242/test1.html\n"
     ]
    }
   ],
   "source": [
    "import requests\n",
    "\n",
    "def webdir(url, depth, indent):\n",
    "    if depth < 0:\n",
    "        return\n",
    "\n",
    "    # Based on the depth currently, add the appropriate indentation\n",
    "    print(' ' * indent + url)\n",
    "\n",
    "    try:\n",
    "        response = requests.get(url)\n",
    "        if response.status_code == 200:\n",
    "            content = response.text\n",
    "\n",
    "            # Identify the web pages URLs\n",
    "            urls = extract_urls(content)\n",
    "\n",
    "            # Visit each URL repeatedly up to the specified depth\n",
    "            for next_url in urls:\n",
    "                webdir(next_url, depth - 1, indent + 1)\n",
    "    except requests.exceptions.RequestException:\n",
    "        return\n",
    "\n",
    "def extract_urls(content):\n",
    "    # Apply your reasoning to extract URLs from the web page's content here\n",
    "    # To parse the HTML, you can use programmes like BeautifulSoup or regex\n",
    "\n",
    "    # Let's assume a basic extraction logic for illustration purposes\n",
    "    urls = []\n",
    "    start = 0\n",
    "    while True:\n",
    "        start_link = content.find('<a href=\"', start)\n",
    "        if start_link == -1:\n",
    "            break\n",
    "        start_quote = content.find('\"', start_link)\n",
    "        end_quote = content.find('\"', start_quote + 1)\n",
    "        url = content[start_quote + 1:end_quote]\n",
    "        urls.append(url)\n",
    "        start = end_quote + 1\n",
    "\n",
    "    return urls\n",
    "\n",
    "\n",
    "webdir('http://reed.cs.depaul.edu/lperkovic/csc242/test1.html', 2, 0)"
   ]
  },
  {
   "cell_type": "markdown",
   "id": "c8f9c949",
   "metadata": {},
   "source": [
    "# Question 8\n"
   ]
  },
  {
   "cell_type": "markdown",
   "id": "37ba68a9",
   "metadata": {},
   "source": [
    "Write SQL queries on the below database table that return:\n",
    "\n",
    "a) All the temperature data.\n",
    "\n",
    "b) All the cities, but without repetition.\n",
    "\n",
    "c) All the records for India.\n",
    "\n",
    "d) All the Fall records.\n",
    "\n",
    "e) The city, country, and season for which the average rainfall is between 200\n",
    "and 400 millimeters.\n",
    "\n",
    "f) The city and country for which the average Fall temperature is above 20\n",
    "degrees, in increasing temperature order.\n",
    "\n",
    "g) The total annual rainfall for Cairo.\n",
    "\n",
    "h) The total rainfall for each season."
   ]
  },
  {
   "cell_type": "markdown",
   "id": "b8cecd95",
   "metadata": {},
   "source": [
    "\n",
    "a.All the temperature data.\n",
    "\n",
    "SELECT Temperature FROM YourTable;\n",
    "\n",
    "b.All the cities, but without repetition\n",
    "\n",
    "SELECT DISTINCT City FROM YourTable;\n",
    "\n",
    "c.All the records for India.\n",
    "\n",
    "SELECT * FROM YourTable WHERE Country = 'India';\n",
    "\n",
    "d.All the Fall records.\n",
    "\n",
    "SELECT * FROM YourTable WHERE Season = 'Fall';\n",
    "\n",
    "e.The city, country, and season for which the average rainfall is between 200 and 400 millimeters.\n",
    "\n",
    "SELECT City, Country, Season FROM YourTable GROUP BY City, Country, Season HAVING AVG(Rainfall) BETWEEN 200 AND 400;\n",
    "\n",
    "f.The city and country for which the average Fall temperature is above 20 degrees, in increasing temperature order.\n",
    "\n",
    "SELECT City, Country FROM YourTable WHERE Season = 'Fall' GROUP BY City, Country HAVING AVG(Temperature) > 20 ORDER BY AVG(Temperature) ASC;\n",
    "\n",
    "g.The total annual rainfall for Cairo.\n",
    "\n",
    "SELECT SUM(Rainfall) AS TotalRainfall FROM YourTable WHERE City = 'Cairo';\n",
    "\n",
    "h.The total rainfall for each season.\n",
    "\n",
    "SELECT Season, SUM(Rainfall) AS TotalRainfall FROM YourTable GROUP BY Season;\n"
   ]
  },
  {
   "cell_type": "markdown",
   "id": "eac88a18",
   "metadata": {},
   "source": [
    "# Question 9"
   ]
  },
  {
   "cell_type": "markdown",
   "id": "ce6bc734",
   "metadata": {},
   "source": [
    "Write list comprehension expressions that use list words and generate the following lists:\n",
    "    \n",
    "\n",
    ". Suppose list words is defined as follows:\n",
    "    \n",
    ">>> words = ['The', 'quick', 'brown', 'fox', 'jumps', 'over',\n",
    "'the', 'lazy', 'dog']\n",
    "\n",
    "Write list comprehension expressions that use list words and generate the following\n",
    "lists:\n",
    "    \n",
    "a) ['THE', 'QUICK', 'BROWN', 'FOX', 'JUMPS', 'OVER', 'THE',\n",
    "'LAZY', 'DOG']\n",
    "\n",
    "b) ['the', 'quick', 'brown', 'fox', 'jumps', 'over', 'the',\n",
    "'lazy', 'dog']\n",
    "\n",
    "c) [3, 5, 5, 3, 5, 4, 3, 4, 3] (the list of lengths of words in list\n",
    "words).\n",
    "\n",
    "d) [['THE', 'the', 3], ['QUICK', 'quick', 5], ['BROWN',\n",
    "'brown', 5], ['FOX', 'fox', 3], ['JUMPS', 'jumps', 5],\n",
    "['OVER', 'over', 4], ['THE', 'the', 3], ['LAZY', 'lazy',\n",
    "4], ['DOG', 'dog', 3]] (the list containing a list for every word of list\n",
    "words, where each list contains the word in uppercase and lowercase and the\n",
    "length of the word.)\n",
    "\n",
    "e) ['The', 'quick', 'brown', 'fox', 'jumps', 'over', 'the',\n",
    "'lazy', 'dog'] (the list of words in list words containing 4 or more\n",
    "characters.)\n",
    "\n",
    "\n"
   ]
  },
  {
   "cell_type": "code",
   "execution_count": 5,
   "id": "7f946698",
   "metadata": {},
   "outputs": [],
   "source": [
    "words = ['The', 'quick', 'brown', 'fox', 'jumps', 'over','the', 'lazy', 'dog']"
   ]
  },
  {
   "cell_type": "code",
   "execution_count": 6,
   "id": "02503775",
   "metadata": {},
   "outputs": [
    {
     "name": "stdout",
     "output_type": "stream",
     "text": [
      "['THE', 'QUICK', 'BROWN', 'FOX', 'JUMPS', 'OVER', 'THE', 'LAZY', 'DOG']\n"
     ]
    }
   ],
   "source": [
    "# a) ['THE', 'QUICK', 'BROWN', 'FOX', 'JUMPS', 'OVER', 'THE','LAZY', 'DOG']\n",
    "uppercase_words = [word.upper() for word in words]\n",
    "print(uppercase_words)\n"
   ]
  },
  {
   "cell_type": "code",
   "execution_count": 7,
   "id": "3ccdbba4",
   "metadata": {},
   "outputs": [
    {
     "name": "stdout",
     "output_type": "stream",
     "text": [
      "['the', 'quick', 'brown', 'fox', 'jumps', 'over', 'the', 'lazy', 'dog']\n"
     ]
    }
   ],
   "source": [
    "# b) ['the', 'quick', 'brown', 'fox', 'jumps', 'over', 'the','lazy', 'dog']\n",
    "lowercase_words = [word.lower() for word in words]\n",
    "print(lowercase_words)\n"
   ]
  },
  {
   "cell_type": "code",
   "execution_count": 9,
   "id": "a0681db2",
   "metadata": {},
   "outputs": [
    {
     "name": "stdout",
     "output_type": "stream",
     "text": [
      "[3, 5, 5, 3, 5, 4, 3, 4, 3]\n"
     ]
    }
   ],
   "source": [
    "# c) [3, 5, 5, 3, 5, 4, 3, 4, 3] (the list of lengths of words in listwords)\n",
    "word_lengths = [len(word) for word in words]\n",
    "print(word_lengths)\n"
   ]
  },
  {
   "cell_type": "code",
   "execution_count": 12,
   "id": "27d479fe",
   "metadata": {},
   "outputs": [
    {
     "name": "stdout",
     "output_type": "stream",
     "text": [
      "[['THE', 'the', 3], ['QUICK', 'quick', 5], ['BROWN', 'brown', 5], ['FOX', 'fox', 3], ['JUMPS', 'jumps', 5], ['OVER', 'over', 4], ['THE', 'the', 3], ['LAZY', 'lazy', 4], ['DOG', 'dog', 3]]\n"
     ]
    }
   ],
   "source": [
    "#d) [['THE', 'the', 3], ['QUICK', 'quick', 5], ['BROWN','brown', 5], ['FOX', 'fox', 3], ['JUMPS', 'jumps', 5],['OVER', 'over', 4], ['THE', 'the', 3], ['LAZY', 'lazy',4], ['DOG', 'dog', 3]] (the list containing a list for every word of list\n",
    "# words, where each list contains the word in uppercase and lowercase and the\n",
    "# length of the word.)\n",
    "word_info = [[word.upper(), word.lower(), len(word)] for word in words]\n",
    "print(word_info)\n"
   ]
  },
  {
   "cell_type": "code",
   "execution_count": 13,
   "id": "fcb42a02",
   "metadata": {},
   "outputs": [
    {
     "name": "stdout",
     "output_type": "stream",
     "text": [
      "['quick', 'brown', 'jumps', 'over', 'lazy']\n"
     ]
    }
   ],
   "source": [
    "#e) ['The', 'quick', 'brown', 'fox', 'jumps', 'over', 'the','lazy', 'dog'] (the list of words in list words containing 4 or more\n",
    "#characters.)\n",
    "long_words = [word for word in words if len(word) >= 4]\n",
    "print(long_words)\n",
    "\n"
   ]
  },
  {
   "cell_type": "code",
   "execution_count": null,
   "id": "b26256d5",
   "metadata": {},
   "outputs": [],
   "source": []
  }
 ],
 "metadata": {
  "kernelspec": {
   "display_name": "Python 3 (ipykernel)",
   "language": "python",
   "name": "python3"
  },
  "language_info": {
   "codemirror_mode": {
    "name": "ipython",
    "version": 3
   },
   "file_extension": ".py",
   "mimetype": "text/x-python",
   "name": "python",
   "nbconvert_exporter": "python",
   "pygments_lexer": "ipython3",
   "version": "3.10.9"
  }
 },
 "nbformat": 4,
 "nbformat_minor": 5
}
